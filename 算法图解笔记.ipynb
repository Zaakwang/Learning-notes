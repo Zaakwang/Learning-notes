{
 "cells": [
  {
   "cell_type": "code",
   "execution_count": 8,
   "metadata": {},
   "outputs": [],
   "source": [
    "import numpy as np\n",
    "import pandas as pd"
   ]
  },
  {
   "cell_type": "markdown",
   "metadata": {},
   "source": [
    "### 二分查找"
   ]
  },
  {
   "cell_type": "code",
   "execution_count": 5,
   "metadata": {},
   "outputs": [],
   "source": [
    "def binary_search(list: list, item) -> int:\n",
    "    \n",
    "    \"\"\"\n",
    "    通过将有序数组不断折半来查找目标值，直到找到或搜索范围为空\n",
    "    \"\"\"\n",
    "\n",
    "    low = 0\n",
    "    high = len(list)-1\n",
    "\n",
    "    while low <= high:\n",
    "        mid = int((low + high)/2)\n",
    "        guess = list[mid]\n",
    "        if guess > item:\n",
    "            high = mid - 1\n",
    "        elif guess < item:\n",
    "            low = mid + 1\n",
    "        else:\n",
    "            return mid\n",
    "    return None\n"
   ]
  },
  {
   "cell_type": "markdown",
   "metadata": {},
   "source": [
    "### 算法运行时间及大O法"
   ]
  },
  {
   "cell_type": "code",
   "execution_count": null,
   "metadata": {},
   "outputs": [],
   "source": [
    "# 大O法指出算法运行时间的增速\n",
    "# 常见的大O运行时间\n",
    "### O(log(n))\n",
    "### O(n)\n",
    "### O(n*log(n))\n",
    "### O(n^2)\n",
    "### O(n!)"
   ]
  },
  {
   "cell_type": "markdown",
   "metadata": {},
   "source": [
    "### 数组和链表"
   ]
  },
  {
   "cell_type": "code",
   "execution_count": null,
   "metadata": {},
   "outputs": [],
   "source": [
    "# 数组\n",
    "### 读取:O(1)\n",
    "###   插入:O(n)\n",
    "###     删除:O(n)\n",
    "# 链表\n",
    "### 读取:O(n)\n",
    "###   插入:O(1)\n",
    "###     删除:O(1)\n",
    "# 链表数组"
   ]
  },
  {
   "cell_type": "markdown",
   "metadata": {},
   "source": [
    "### 选择排序"
   ]
  },
  {
   "cell_type": "code",
   "execution_count": 12,
   "metadata": {},
   "outputs": [],
   "source": [
    "class selectionsort():\n",
    "    \"\"\"\n",
    "    通过重复查找未排序部分的最小（或最大）元素并将其移动到排序序列的开头，直到所有元素都被排序\n",
    "    \"\"\"\n",
    "    \n",
    "    def __init__(self, data):\n",
    "        self.data = data\n",
    "\n",
    "    def find_smallest(self, arr: np.array) -> int:\n",
    "        smallest = arr[0]\n",
    "        smallest_index = 0\n",
    "        for i in range(1, len(arr)):\n",
    "            if arr[i] < smallest:\n",
    "                smallest = arr[i]\n",
    "                smallest_index = i\n",
    "        return smallest_index\n",
    "    \n",
    "    def Selectionsort(self, arr: np.array) -> list:\n",
    "        list = []\n",
    "        for j in range(len(arr)):\n",
    "            smallest_index = self.find_smallest(arr)\n",
    "            list.append(arr.pop(smallest_index))\n",
    "        return list"
   ]
  },
  {
   "cell_type": "markdown",
   "metadata": {},
   "source": [
    "### 递归"
   ]
  },
  {
   "cell_type": "code",
   "execution_count": 3,
   "metadata": {},
   "outputs": [],
   "source": [
    "# 递归\n",
    "### 函数调用自己\n",
    "### 基线条件：函数不再调用自己\n",
    "###   递归条件：函数调用自己\n",
    "### example\n",
    "def countdown(i):\n",
    "    print(i)\n",
    "    if i <= 1: ### 基线条件\n",
    "        return\n",
    "    else: ### 递归条件\n",
    "        countdown(i-1)"
   ]
  },
  {
   "cell_type": "markdown",
   "metadata": {},
   "source": [
    "### 栈和调用栈(call stack)"
   ]
  },
  {
   "cell_type": "code",
   "execution_count": null,
   "metadata": {},
   "outputs": [],
   "source": [
    "### example\n",
    "def greet2(name):\n",
    "    print(\"how are you, \" + name +\"?\")\n",
    "def bye():\n",
    "    print(\"ok bye!\")\n",
    "def greet(name):\n",
    "    print(\"hello, \" + name + \"!\")\n",
    "    greet2(name) ### 当调用函数greet2时，greet只执行了一部分。调用另一函数，当前函数暂停并处于未完成状态\n",
    "    print(\"getting ready to say bye\")\n",
    "    bye()"
   ]
  },
  {
   "cell_type": "code",
   "execution_count": 5,
   "metadata": {},
   "outputs": [],
   "source": [
    "# 递归调用栈与阶乘\n",
    "def factorial(x):\n",
    "    if x == 1: ### 基线条件\n",
    "        return x\n",
    "    else: ### 递归条件\n",
    "        return x*factorial(x-1)"
   ]
  },
  {
   "cell_type": "markdown",
   "metadata": {},
   "source": [
    "### 分而治之 Divide & Conquer"
   ]
  },
  {
   "cell_type": "code",
   "execution_count": null,
   "metadata": {},
   "outputs": [],
   "source": [
    "# 分而治之核心思想\n",
    "### 找出简单基线条件；确定如何缩小问题规模，使符合基线条件\n",
    "### 归纳证明的思想"
   ]
  },
  {
   "cell_type": "markdown",
   "metadata": {},
   "source": [
    "### 快速排序"
   ]
  },
  {
   "cell_type": "code",
   "execution_count": 11,
   "metadata": {},
   "outputs": [],
   "source": [
    "def quicksort(array: np.array) -> np.array:\n",
    "    \"\"\"\n",
    "    通过选择一个基准值，将数组分为比基准值大和小两部分，然后递归地在这两部分上重复这个过程，直到整个数组有序\n",
    "    \"\"\"\n",
    "\n",
    "    if len(array) < 2:\n",
    "        return array\n",
    "    else:\n",
    "        pivot = array[0]\n",
    "        less = [i for i in array[1: ] if i < pivot]\n",
    "        greater = [i for i in array[1: ] if i > pivot]\n",
    "        return quicksort(less) + [pivot] + quicksort(greater)\n",
    "        "
   ]
  },
  {
   "cell_type": "code",
   "execution_count": null,
   "metadata": {},
   "outputs": [],
   "source": [
    "# 更多关于大O法\n",
    "## 平均情况\n",
    "### 对于快排，调用栈高度O(log(n))，每层栈长度O(n)，因此运行时间O(n)*O(log(n))=O(nlog(n))\n",
    "## 最坏情况\n",
    "### 对于快排，调用栈高度O(n)，每层栈长度O(n)，因此运行时间O(n)*O(n)=O(n^2)"
   ]
  },
  {
   "cell_type": "markdown",
   "metadata": {},
   "source": [
    "### 散列表(哈希表/字典)"
   ]
  },
  {
   "cell_type": "code",
   "execution_count": null,
   "metadata": {},
   "outputs": [],
   "source": [
    "# 散列函数\n",
    "### 将输入映射到数字\n",
    "### 相同输入产生相同输出，不同输入映射到不同数字"
   ]
  },
  {
   "cell_type": "code",
   "execution_count": null,
   "metadata": {},
   "outputs": [],
   "source": [
    "# 散列表\n",
    "### 散列表=散列函数+数组，使用散列函数储存检索键值对\n",
    "### 键必须hashable\n",
    "### 散列表实现\n",
    "book = dict() ### book = {}\n",
    "book['apple'] = 0.67\n",
    "book['milk'] = 1.49\n",
    "book['avocado'] = 1.49\n",
    "### 散列表应用：查找、防止重复、缓存\n",
    "cache = {}\n",
    "def get_page(url):\n",
    "    if cache.get(url):\n",
    "        return cache[url]\n",
    "    else:\n",
    "        data = data\n",
    "        cache[url] = data\n",
    "        return data"
   ]
  },
  {
   "cell_type": "code",
   "execution_count": null,
   "metadata": {},
   "outputs": [],
   "source": [
    "# 冲突\n",
    "### 两个键被分配同一位置\n",
    "### 解决：在这个位置储存链表\n",
    "### 避免冲突需要较低填装因子(<0.7)及良好散列函数\n",
    "# 性能\n",
    "### 散列表查找、插入和删除均为O(1)\n",
    "### 最坏情况为O(n)"
   ]
  },
  {
   "cell_type": "markdown",
   "metadata": {},
   "source": [
    "### 广度优先搜索"
   ]
  },
  {
   "cell_type": "code",
   "execution_count": null,
   "metadata": {},
   "outputs": [],
   "source": [
    "# 图\n",
    "### 由节点和边组成\n",
    "### 一个节点与众多节点相连，称为邻居"
   ]
  },
  {
   "cell_type": "code",
   "execution_count": null,
   "metadata": {},
   "outputs": [],
   "source": [
    "# 广度优先搜索\n",
    "### 回答A到B是否有路径及寻找最短路径的问题\n",
    "### 第二个问题需要队列实现\n",
    "### 队列采用FIFO数据结构"
   ]
  },
  {
   "cell_type": "code",
   "execution_count": null,
   "metadata": {},
   "outputs": [],
   "source": [
    "# 图的实现\n",
    "### 使用散列表\n",
    "### 有向图与无向图"
   ]
  },
  {
   "cell_type": "code",
   "execution_count": null,
   "metadata": {},
   "outputs": [],
   "source": [
    "#算法实现\n",
    "from collections import deque\n",
    "\n",
    "graph= {}\n",
    "\n",
    "def person_is_seller():\n",
    "    return\n",
    "\n",
    "def search(name):\n",
    "    search_queue = deque()\n",
    "    search_queue += graph[name]\n",
    "    searched = []\n",
    "    while search_queue:\n",
    "        person = search_queue.popleft()\n",
    "        if person not in searched:\n",
    "            if person_is_seller(person):\n",
    "                return person\n",
    "            else:\n",
    "                search_queue += graph[person]\n",
    "                searched.append(person)\n",
    "    return False\n",
    "### 运行时间: O(V+E), 其中V为节点数，E为边数\n"
   ]
  },
  {
   "cell_type": "markdown",
   "metadata": {},
   "source": [
    "### 迪克斯特拉算法"
   ]
  },
  {
   "cell_type": "code",
   "execution_count": null,
   "metadata": {},
   "outputs": [],
   "source": []
  }
 ],
 "metadata": {
  "kernelspec": {
   "display_name": "base",
   "language": "python",
   "name": "python3"
  },
  "language_info": {
   "codemirror_mode": {
    "name": "ipython",
    "version": 3
   },
   "file_extension": ".py",
   "mimetype": "text/x-python",
   "name": "python",
   "nbconvert_exporter": "python",
   "pygments_lexer": "ipython3",
   "version": "3.11.4"
  }
 },
 "nbformat": 4,
 "nbformat_minor": 2
}
